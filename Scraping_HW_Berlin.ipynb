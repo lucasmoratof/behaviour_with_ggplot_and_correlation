{
  "nbformat": 4,
  "nbformat_minor": 0,
  "metadata": {
    "colab": {
      "name": "Scraping HW - Berlin.ipynb",
      "provenance": [],
      "authorship_tag": "ABX9TyPMApzApl6gH7JMtr6N1zNF",
      "include_colab_link": true
    },
    "kernelspec": {
      "name": "python3",
      "display_name": "Python 3"
    }
  },
  "cells": [
    {
      "cell_type": "markdown",
      "metadata": {
        "id": "view-in-github",
        "colab_type": "text"
      },
      "source": [
        "<a href=\"https://colab.research.google.com/github/lucasmoratof/behaviour_with_ggplot_and_correlation/blob/master/Scraping_HW_Berlin.ipynb\" target=\"_parent\"><img src=\"https://colab.research.google.com/assets/colab-badge.svg\" alt=\"Open In Colab\"/></a>"
      ]
    },
    {
      "cell_type": "markdown",
      "metadata": {
        "id": "7bVxFdd_LEoE",
        "colab_type": "text"
      },
      "source": [
        "### Hostel World web scraping\n",
        "\n",
        "I'm starting a project to work with data related to hostels. I decided to scrap one of the biggest hostel portals in the world, [hostel world](https://www.hostelworld.com), and on this notebook I'll get some data from hostels in my favorite city, Berlin.\n",
        "\n",
        "Goal: scrape all hostels in Berlin and get info about:\n",
        "\n",
        "- Name; \n",
        "- Link; \n",
        "- Distance from centre (km); \n",
        "- Average Rating; \n",
        "- Number of reviews;\n",
        "- Average price in USD\n",
        "\n",
        "Web address for scraping: https://www.hostelworld.com/hostels/Berlin"
      ]
    },
    {
      "cell_type": "markdown",
      "metadata": {
        "id": "GTUQVpkzNqEU",
        "colab_type": "text"
      },
      "source": [
        "Now, discover how to get the maximum pages automatically"
      ]
    },
    {
      "cell_type": "code",
      "metadata": {
        "id": "zZSx5O3nLAXD",
        "colab_type": "code",
        "colab": {}
      },
      "source": [
        "from requests import get\n",
        "from bs4 import BeautifulSoup\n",
        "\n",
        "import pandas as pd\n",
        "import numpy as np\n",
        "\n",
        "import time\n",
        "\n",
        "import re"
      ],
      "execution_count": 0,
      "outputs": []
    },
    {
      "cell_type": "code",
      "metadata": {
        "id": "kTPjacw_LoQQ",
        "colab_type": "code",
        "colab": {}
      },
      "source": [
        "url = 'https://www.hostelworld.com/hostels/Berlin'\n",
        "response = get(url)\n",
        "\n",
        "# create soup\n",
        "soup = BeautifulSoup(response.text, 'html.parser')\n",
        "\n",
        "# creating individual containers, on each one there's information about one hostel.\n",
        "holstel_containers= soup.findAll(class_= 'fabresult rounded clearfix hwta-property')"
      ],
      "execution_count": 0,
      "outputs": []
    },
    {
      "cell_type": "code",
      "metadata": {
        "id": "rtAjObsh9Ygv",
        "colab_type": "code",
        "colab": {
          "base_uri": "https://localhost:8080/",
          "height": 35
        },
        "outputId": "190c4301-a904-428b-9c7a-07cd6cab04cc"
      },
      "source": [
        "# how many hostels on the page\n",
        "len(holstel_containers)"
      ],
      "execution_count": 4,
      "outputs": [
        {
          "output_type": "execute_result",
          "data": {
            "text/plain": [
              "30"
            ]
          },
          "metadata": {
            "tags": []
          },
          "execution_count": 4
        }
      ]
    },
    {
      "cell_type": "markdown",
      "metadata": {
        "id": "WGKFbvyxDtKS",
        "colab_type": "text"
      },
      "source": [
        "For me, it's easy to explore the first container first, in order to get the correct information. Once I find out how to search for what I need, I can next make a loop that will do the same process for each container."
      ]
    },
    {
      "cell_type": "code",
      "metadata": {
        "id": "tSWE9Hi8_io2",
        "colab_type": "code",
        "colab": {
          "base_uri": "https://localhost:8080/",
          "height": 1000
        },
        "outputId": "bcbc9f31-d37b-42ab-ef48-c55289f59867"
      },
      "source": [
        "first_hostel = holstel_containers[0]\n",
        "print(first_hostel.prettify())"
      ],
      "execution_count": 5,
      "outputs": [
        {
          "output_type": "stream",
          "text": [
            "<div class=\"fabresult rounded clearfix hwta-property\" data-id=\"11286\" data-name=\"EastSeven Berlin Hostel\" id=\"searchResults_11286\" url=\"https://www.hostelworld.com/hosteldetails.php/EastSeven-Berlin-Hostel/Berlin/11286\">\n",
            " <div class=\"fab-carousel-skeleton carousel-skeleton\">\n",
            "  <div class=\"fab-carousel-container small-12 medium-5 large-3 columns rounded\" data-images=\"https://a.hwstatic.com/propertyimages/1/11286/5025.jpg,https://a.hwstatic.com/propertyimages/1/11286/501.jpg,https://a.hwstatic.com/propertyimages/1/11286/506.jpg,https://a.hwstatic.com/propertyimages/1/11286/507.jpg,https://a.hwstatic.com/propertyimages/1/11286/5010.jpg,https://a.hwstatic.com/propertyimages/1/11286/5012.jpg,https://a.hwstatic.com/propertyimages/1/11286/5013.jpg,https://a.hwstatic.com/propertyimages/1/11286/5014.jpg,https://a.hwstatic.com/propertyimages/1/11286/5015.jpg,https://a.hwstatic.com/propertyimages/1/11286/5016.jpg,https://a.hwstatic.com/propertyimages/1/11286/5017.jpg,https://a.hwstatic.com/propertyimages/1/11286/5018.jpg,https://a.hwstatic.com/propertyimages/1/11286/5021.jpg,https://a.hwstatic.com/propertyimages/1/11286/5024.jpg,https://a.hwstatic.com/propertyimages/1/11286/5027.jpg,https://a.hwstatic.com/propertyimages/1/11286/5028.jpg,https://a.hwstatic.com/propertyimages/1/11286/5030.jpg,https://a.hwstatic.com/propertyimages/1/11286/5033.jpg,https://a.hwstatic.com/propertyimages/1/11286/5034.jpg,https://a.hwstatic.com/propertyimages/1/11286/5035.jpg,https://a.hwstatic.com/propertyimages/1/11286/5037.jpg,https://a.hwstatic.com/propertyimages/1/11286/5038.jpg,https://a.hwstatic.com/propertyimages/1/11286/5039.jpg,https://a.hwstatic.com/propertyimages/1/11286/5040.jpg,https://a.hwstatic.com/propertyimages/1/11286/5044.jpg,https://a.hwstatic.com/propertyimages/1/11286/5045.jpg,https://a.hwstatic.com/propertyimages/1/11286/5049.jpg,https://a.hwstatic.com/propertyimages/1/11286/5050.jpg,https://a.hwstatic.com/propertyimages/1/11286/5053.jpg,https://a.hwstatic.com/propertyimages/1/11286/5054.jpg\" main-image=\"Array\">\n",
            "   <fab-carousel :images='[{\"prefix\":\"a.hwstatic.com\\/image\\/upload\\/f_auto,q_auto\",\"suffix\":\"\\/v1\\/propertyimages\\/1\\/11286\\/5025.jpg\"},{\"prefix\":\"a.hwstatic.com\\/image\\/upload\\/f_auto,q_auto\",\"suffix\":\"\\/v1\\/propertyimages\\/1\\/11286\\/501.jpg\"},{\"prefix\":\"a.hwstatic.com\\/image\\/upload\\/f_auto,q_auto\",\"suffix\":\"\\/v1\\/propertyimages\\/1\\/11286\\/5010.jpg\"},{\"prefix\":\"a.hwstatic.com\\/image\\/upload\\/f_auto,q_auto\",\"suffix\":\"\\/v1\\/propertyimages\\/1\\/11286\\/5012.jpg\"},{\"prefix\":\"a.hwstatic.com\\/image\\/upload\\/f_auto,q_auto\",\"suffix\":\"\\/v1\\/propertyimages\\/1\\/11286\\/5013.jpg\"},{\"prefix\":\"a.hwstatic.com\\/image\\/upload\\/f_auto,q_auto\",\"suffix\":\"\\/v1\\/propertyimages\\/1\\/11286\\/5014.jpg\"},{\"prefix\":\"a.hwstatic.com\\/image\\/upload\\/f_auto,q_auto\",\"suffix\":\"\\/v1\\/propertyimages\\/1\\/11286\\/5015.jpg\"},{\"prefix\":\"a.hwstatic.com\\/image\\/upload\\/f_auto,q_auto\",\"suffix\":\"\\/v1\\/propertyimages\\/1\\/11286\\/5016.jpg\"},{\"prefix\":\"a.hwstatic.com\\/image\\/upload\\/f_auto,q_auto\",\"suffix\":\"\\/v1\\/propertyimages\\/1\\/11286\\/5017.jpg\"},{\"prefix\":\"a.hwstatic.com\\/image\\/upload\\/f_auto,q_auto\",\"suffix\":\"\\/v1\\/propertyimages\\/1\\/11286\\/5018.jpg\"},{\"prefix\":\"a.hwstatic.com\\/image\\/upload\\/f_auto,q_auto\",\"suffix\":\"\\/v1\\/propertyimages\\/1\\/11286\\/5021.jpg\"},{\"prefix\":\"a.hwstatic.com\\/image\\/upload\\/f_auto,q_auto\",\"suffix\":\"\\/v1\\/propertyimages\\/1\\/11286\\/5024.jpg\"},{\"prefix\":\"a.hwstatic.com\\/image\\/upload\\/f_auto,q_auto\",\"suffix\":\"\\/v1\\/propertyimages\\/1\\/11286\\/5027.jpg\"},{\"prefix\":\"a.hwstatic.com\\/image\\/upload\\/f_auto,q_auto\",\"suffix\":\"\\/v1\\/propertyimages\\/1\\/11286\\/5028.jpg\"},{\"prefix\":\"a.hwstatic.com\\/image\\/upload\\/f_auto,q_auto\",\"suffix\":\"\\/v1\\/propertyimages\\/1\\/11286\\/5030.jpg\"},{\"prefix\":\"a.hwstatic.com\\/image\\/upload\\/f_auto,q_auto\",\"suffix\":\"\\/v1\\/propertyimages\\/1\\/11286\\/5033.jpg\"},{\"prefix\":\"a.hwstatic.com\\/image\\/upload\\/f_auto,q_auto\",\"suffix\":\"\\/v1\\/propertyimages\\/1\\/11286\\/5034.jpg\"},{\"prefix\":\"a.hwstatic.com\\/image\\/upload\\/f_auto,q_auto\",\"suffix\":\"\\/v1\\/propertyimages\\/1\\/11286\\/5035.jpg\"},{\"prefix\":\"a.hwstatic.com\\/image\\/upload\\/f_auto,q_auto\",\"suffix\":\"\\/v1\\/propertyimages\\/1\\/11286\\/5037.jpg\"},{\"prefix\":\"a.hwstatic.com\\/image\\/upload\\/f_auto,q_auto\",\"suffix\":\"\\/v1\\/propertyimages\\/1\\/11286\\/5038.jpg\"},{\"prefix\":\"a.hwstatic.com\\/image\\/upload\\/f_auto,q_auto\",\"suffix\":\"\\/v1\\/propertyimages\\/1\\/11286\\/5039.jpg\"},{\"prefix\":\"a.hwstatic.com\\/image\\/upload\\/f_auto,q_auto\",\"suffix\":\"\\/v1\\/propertyimages\\/1\\/11286\\/5040.jpg\"},{\"prefix\":\"a.hwstatic.com\\/image\\/upload\\/f_auto,q_auto\",\"suffix\":\"\\/v1\\/propertyimages\\/1\\/11286\\/5044.jpg\"},{\"prefix\":\"a.hwstatic.com\\/image\\/upload\\/f_auto,q_auto\",\"suffix\":\"\\/v1\\/propertyimages\\/1\\/11286\\/5045.jpg\"},{\"prefix\":\"a.hwstatic.com\\/image\\/upload\\/f_auto,q_auto\",\"suffix\":\"\\/v1\\/propertyimages\\/1\\/11286\\/5049.jpg\"},{\"prefix\":\"a.hwstatic.com\\/image\\/upload\\/f_auto,q_auto\",\"suffix\":\"\\/v1\\/propertyimages\\/1\\/11286\\/5050.jpg\"},{\"prefix\":\"a.hwstatic.com\\/image\\/upload\\/f_auto,q_auto\",\"suffix\":\"\\/v1\\/propertyimages\\/1\\/11286\\/5053.jpg\"},{\"prefix\":\"a.hwstatic.com\\/image\\/upload\\/f_auto,q_auto\",\"suffix\":\"\\/v1\\/propertyimages\\/1\\/11286\\/5054.jpg\"},{\"prefix\":\"a.hwstatic.com\\/image\\/upload\\/f_auto,q_auto\",\"suffix\":\"\\/v1\\/propertyimages\\/1\\/11286\\/506.jpg\"},{\"prefix\":\"a.hwstatic.com\\/image\\/upload\\/f_auto,q_auto\",\"suffix\":\"\\/v1\\/propertyimages\\/1\\/11286\\/507.jpg\"}]' :key=\"11286\" :property-id=\"11286\" :total-gallery-images=\"30\" v-if=\"displayCarousel\">\n",
            "   </fab-carousel>\n",
            "   <img alt=\"property-image\" class=\"mobile-main-image\" src=\"https://a.hwstatic.com/image/upload/f_auto,q_auto,c_fill,w_104,h_104/v1/propertyimages/1/11286/5025.jpg\" v-show=\"!displayCarousel\"/>\n",
            "  </div>\n",
            " </div>\n",
            " <wish-list-trigger :key=\"11286\" :property-id=\"11286\" :property-rating=\"95\" :tooltip-saved=\"'Remove from wish list'\" :tooltip-unsaved=\"'Save to Wish List'\" class=\"fab-wish-list-trigger pull-right mt-1\" property-image=\"https://a.hwstatic.com/propertyimages/1/11286/5025.jpg\" property-name=\"EastSeven Berlin Hostel\">\n",
            " </wish-list-trigger>\n",
            " <div class=\"resultheader rounded clearfix small-12 medium-7 large-8 columns clearfix\">\n",
            "  <div class=\"proptype featureline\">\n",
            "   Hostel\n",
            "  </div>\n",
            "  <h2>\n",
            "   <a class=\"hwta-property-link\" href=\"https://www.hostelworld.com/hosteldetails.php/EastSeven-Berlin-Hostel/Berlin/11286\">\n",
            "    EastSeven Berlin Hostel\n",
            "   </a>\n",
            "  </h2>\n",
            "  <div class=\"mobileproperty\">\n",
            "   Hostel\n",
            "  </div>\n",
            "  <div class=\"addressline\">\n",
            "   1.2km from city centre\n",
            "   <a @click=\"openMapModal(11286)\" class=\"open-map-modal\" v-if=\"displayShowMap\">\n",
            "    - Show on Map\n",
            "   </a>\n",
            "  </div>\n",
            "  <div class=\"fabresult-details-rating\">\n",
            "   <div class=\"hwta-rating-container\">\n",
            "    <div class=\"hwta-rating-summary\">\n",
            "     <a class=\"hwta-rating-score\" href=\"https://www.hostelworld.com/hosteldetails.php/EastSeven-Berlin-Hostel/Berlin/11286#reviews\">\n",
            "      9.5\n",
            "     </a>\n",
            "     <div class=\"hwta-rating-info\">\n",
            "      <span class=\"hwta-rating-text-score\">\n",
            "       Superb\n",
            "      </span>\n",
            "      <a class=\"hwta-rating-counter\" href=\"https://www.hostelworld.com/hosteldetails.php/EastSeven-Berlin-Hostel/Berlin/11286#reviews\">\n",
            "       <i class=\"fa fa-comment-o\">\n",
            "       </i>\n",
            "       6940\n",
            "      </a>\n",
            "     </div>\n",
            "    </div>\n",
            "    <ul class=\"hwta-rating-factors clearfix\">\n",
            "     <li>\n",
            "      <span class=\"hwta-rating-factors-icon hwta-rating-factors-icon-red\">\n",
            "       <i class=\"fa fa-map-marker fa-flip-horizontal rounded\">\n",
            "       </i>\n",
            "      </span>\n",
            "      <span class=\"hwta-rating-factors-label\">\n",
            "       Perfect\n",
            "       <b>\n",
            "        Location\n",
            "       </b>\n",
            "      </span>\n",
            "     </li>\n",
            "     <li>\n",
            "      <span class=\"hwta-rating-factors-icon hwta-rating-factors-icon-green\">\n",
            "       <i class=\"fa fa-user fa-flip-horizontal rounded\">\n",
            "       </i>\n",
            "      </span>\n",
            "      <span class=\"hwta-rating-factors-label\">\n",
            "       Superb\n",
            "       <b>\n",
            "        Staff\n",
            "       </b>\n",
            "      </span>\n",
            "     </li>\n",
            "     <li>\n",
            "      <span class=\"hwta-rating-factors-icon hwta-rating-factors-icon-blue\">\n",
            "       <i class=\"fa fa-magic fa-rotate-180 rounded\">\n",
            "       </i>\n",
            "      </span>\n",
            "      <span class=\"hwta-rating-factors-label\">\n",
            "       Fantastic\n",
            "       <b>\n",
            "        Cleanliness\n",
            "       </b>\n",
            "      </span>\n",
            "     </li>\n",
            "    </ul>\n",
            "   </div>\n",
            "   <div class=\"mobilefacilities\">\n",
            "    <div class=\"facility icon_freewifi\">\n",
            "     <i class=\"fa fa-wifi\">\n",
            "     </i>\n",
            "    </div>\n",
            "   </div>\n",
            "  </div>\n",
            "  <div class=\"icon_freewifi\">\n",
            "   <i class=\"fa fa-wifi\">\n",
            "   </i>\n",
            "   Free WiFi\n",
            "  </div>\n",
            "  <div class=\"mobileprice\">\n",
            "   <a class=\"hwta-property-link\" href=\"https://www.hostelworld.com/hosteldetails.php/EastSeven-Berlin-Hostel/Berlin/11286\">\n",
            "    <span class=\"price\">\n",
            "     US$19.13\n",
            "    </span>\n",
            "   </a>\n",
            "  </div>\n",
            "  <!-- result details -->\n",
            "  <div class=\"fabresult-details\">\n",
            "   <p class=\"show-for-medium-up\">\n",
            "    Best Hostel Germany 2015” You nominated us as Top 10 Hostels every year since 2006 - incl. the Cleanest Hostel Worldwide in 2005! Also highly recommended by Lonely Planet, Let's Go, Rick Steve's...\n",
            "    <a class=\"hwta-property-link\" href=\"https://www.hostelworld.com/hosteldetails.php/EastSeven-Berlin-Hostel/Berlin/11286\">\n",
            "     More...\n",
            "    </a>\n",
            "   </p>\n",
            "  </div>\n",
            "  <div class=\"fabresult-prices small-12\">\n",
            "   <ul class=\"pricing no-bullet\">\n",
            "    <li class=\"minprice clearfix\">\n",
            "     <span class=\"price\">\n",
            "      <a href=\"https://www.hostelworld.com/hosteldetails.php/EastSeven-Berlin-Hostel/Berlin/11286\">\n",
            "       US$19.13\n",
            "      </a>\n",
            "     </span>\n",
            "     <a class=\"hwta-property-link\" href=\"https://www.hostelworld.com/hosteldetails.php/EastSeven-Berlin-Hostel/Berlin/11286\">\n",
            "      Prices from:\n",
            "     </a>\n",
            "    </li>\n",
            "   </ul>\n",
            "  </div>\n",
            " </div>\n",
            " <a class=\"moreinfo button tiny radius hwta-property-link\" href=\"https://www.hostelworld.com/hosteldetails.php/EastSeven-Berlin-Hostel/Berlin/11286\">\n",
            "  View\n",
            " </a>\n",
            "</div>\n",
            "\n"
          ],
          "name": "stdout"
        }
      ]
    },
    {
      "cell_type": "code",
      "metadata": {
        "id": "ZuoAPn5mBezb",
        "colab_type": "code",
        "colab": {
          "base_uri": "https://localhost:8080/",
          "height": 35
        },
        "outputId": "83636ae6-d28c-4662-8066-e2a22c4e5177"
      },
      "source": [
        "# Hostel name\n",
        "first_hostel.h2.a.text"
      ],
      "execution_count": 6,
      "outputs": [
        {
          "output_type": "execute_result",
          "data": {
            "text/plain": [
              "'EastSeven Berlin Hostel'"
            ]
          },
          "metadata": {
            "tags": []
          },
          "execution_count": 6
        }
      ]
    },
    {
      "cell_type": "code",
      "metadata": {
        "id": "AAp6lrMIKsCI",
        "colab_type": "code",
        "colab": {
          "base_uri": "https://localhost:8080/",
          "height": 35
        },
        "outputId": "845adb3e-e70d-4c99-de8b-e6304c88e038"
      },
      "source": [
        "# hostel link\n",
        "first_hostel.h2.a.get('href')"
      ],
      "execution_count": 7,
      "outputs": [
        {
          "output_type": "execute_result",
          "data": {
            "text/plain": [
              "'https://www.hostelworld.com/hosteldetails.php/EastSeven-Berlin-Hostel/Berlin/11286'"
            ]
          },
          "metadata": {
            "tags": []
          },
          "execution_count": 7
        }
      ]
    },
    {
      "cell_type": "code",
      "metadata": {
        "id": "MmkE23wgGSNm",
        "colab_type": "code",
        "colab": {
          "base_uri": "https://localhost:8080/",
          "height": 35
        },
        "outputId": "ec365559-4a3c-4068-f5b0-8a82345cf964"
      },
      "source": [
        "# distance from city centre in km\n",
        "first_hostel.find(class_= \"addressline\").text[12:18].replace('k','').replace('m','').strip()"
      ],
      "execution_count": 8,
      "outputs": [
        {
          "output_type": "execute_result",
          "data": {
            "text/plain": [
              "'1.2'"
            ]
          },
          "metadata": {
            "tags": []
          },
          "execution_count": 8
        }
      ]
    },
    {
      "cell_type": "code",
      "metadata": {
        "id": "L1XbebcEBmi8",
        "colab_type": "code",
        "colab": {
          "base_uri": "https://localhost:8080/",
          "height": 35
        },
        "outputId": "9cc60be3-11aa-4943-ed1f-ae78a143cf52"
      },
      "source": [
        "# average rating\n",
        "first_hostel.find(class_='hwta-rating-score').text.replace('\\n', '').strip()"
      ],
      "execution_count": 9,
      "outputs": [
        {
          "output_type": "execute_result",
          "data": {
            "text/plain": [
              "'9.5'"
            ]
          },
          "metadata": {
            "tags": []
          },
          "execution_count": 9
        }
      ]
    },
    {
      "cell_type": "code",
      "metadata": {
        "id": "e6GvIEGvGRav",
        "colab_type": "code",
        "colab": {
          "base_uri": "https://localhost:8080/",
          "height": 35
        },
        "outputId": "d1b379b6-5f44-49b0-ae5d-ba555047adca"
      },
      "source": [
        "# number of reviews\n",
        "first_hostel.find(class_=\"hwta-rating-counter\").text.replace('\\n', '').strip()"
      ],
      "execution_count": 10,
      "outputs": [
        {
          "output_type": "execute_result",
          "data": {
            "text/plain": [
              "'6940'"
            ]
          },
          "metadata": {
            "tags": []
          },
          "execution_count": 10
        }
      ]
    },
    {
      "cell_type": "code",
      "metadata": {
        "id": "OgZ7KpnWFskb",
        "colab_type": "code",
        "colab": {
          "base_uri": "https://localhost:8080/",
          "height": 35
        },
        "outputId": "7cbe65fb-5ffd-4c82-b886-798f079e852f"
      },
      "source": [
        "# average price per night in US$\n",
        "first_hostel.find(class_= \"price\").text.replace('\\n', '').strip()[3:]"
      ],
      "execution_count": 11,
      "outputs": [
        {
          "output_type": "execute_result",
          "data": {
            "text/plain": [
              "'19.13'"
            ]
          },
          "metadata": {
            "tags": []
          },
          "execution_count": 11
        }
      ]
    },
    {
      "cell_type": "markdown",
      "metadata": {
        "id": "vsUQmL6BTZn9",
        "colab_type": "text"
      },
      "source": [
        "Now, I'm going to apply the same logic and iterate over the pages:"
      ]
    },
    {
      "cell_type": "code",
      "metadata": {
        "id": "VhaCf5hvHfSp",
        "colab_type": "code",
        "colab": {}
      },
      "source": [
        "# first, create the empty lists\n",
        "hostel_names= []\n",
        "hostel_links= []\n",
        "hostel_distance= []\n",
        "hostel_ratings= []\n",
        "hostel_reviews= []\n",
        "hostel_prices= []\n",
        "\n",
        "for page in np.arange(1,4): # to iterate over the pages and create the conteiners\n",
        "  url = 'https://www.hostelworld.com/hostels/Berlin?page=' + str(page)\n",
        "  response = get(url)\n",
        "  soup = BeautifulSoup(response.text, 'html.parser')\n",
        "  holstel_containers= soup.findAll(class_= 'fabresult rounded clearfix hwta-property')\n",
        "\n",
        "  for item in range(len(holstel_containers)): # to iterate over the results on each page\n",
        "    hostel_names.append(holstel_containers[item].h2.a.text)\n",
        "    hostel_links.append(holstel_containers[item].h2.a.get('href'))\n",
        "    hostel_distance.append(holstel_containers[item].find(class_= \"addressline\").text[12:18].replace('k','').replace('m','').strip())\n",
        "    hostel_ratings.append(holstel_containers[item].find(class_='hwta-rating-score').text.replace('\\n', '').strip())\n",
        "    hostel_reviews.append(holstel_containers[item].find(class_=\"hwta-rating-counter\").text.replace('\\n', '').strip())\n",
        "    hostel_prices.append(holstel_containers[item].find(class_= \"price\").text.replace('\\n', '').strip()[3:])                          \n",
        "  time.sleep(2) # this is used to not push too hard on the website"
      ],
      "execution_count": 0,
      "outputs": []
    },
    {
      "cell_type": "code",
      "metadata": {
        "id": "A0yvfj1P7vHw",
        "colab_type": "code",
        "colab": {
          "base_uri": "https://localhost:8080/",
          "height": 200
        },
        "outputId": "b6a07a35-a14f-4804-b238-ddadcb393497"
      },
      "source": [
        "hw_berlin = pd.DataFrame({\n",
        "    'hostel_name': hostel_names,\n",
        "    'distance_centre_km': hostel_distance,\n",
        "    'average_rating': hostel_ratings,\n",
        "    'number_reviews': hostel_reviews,\n",
        "    'average_price_usd': hostel_prices,\n",
        "    'hw_link': hostel_links\n",
        "})\n",
        "\n",
        "hw_berlin.head()"
      ],
      "execution_count": 13,
      "outputs": [
        {
          "output_type": "execute_result",
          "data": {
            "text/html": [
              "<div>\n",
              "<style scoped>\n",
              "    .dataframe tbody tr th:only-of-type {\n",
              "        vertical-align: middle;\n",
              "    }\n",
              "\n",
              "    .dataframe tbody tr th {\n",
              "        vertical-align: top;\n",
              "    }\n",
              "\n",
              "    .dataframe thead th {\n",
              "        text-align: right;\n",
              "    }\n",
              "</style>\n",
              "<table border=\"1\" class=\"dataframe\">\n",
              "  <thead>\n",
              "    <tr style=\"text-align: right;\">\n",
              "      <th></th>\n",
              "      <th>hostel_name</th>\n",
              "      <th>distance_centre_km</th>\n",
              "      <th>average_rating</th>\n",
              "      <th>number_reviews</th>\n",
              "      <th>average_price_usd</th>\n",
              "      <th>hw_link</th>\n",
              "    </tr>\n",
              "  </thead>\n",
              "  <tbody>\n",
              "    <tr>\n",
              "      <th>0</th>\n",
              "      <td>EastSeven Berlin Hostel</td>\n",
              "      <td>1.2</td>\n",
              "      <td>9.5</td>\n",
              "      <td>6940</td>\n",
              "      <td>19.13</td>\n",
              "      <td>https://www.hostelworld.com/hosteldetails.php/...</td>\n",
              "    </tr>\n",
              "    <tr>\n",
              "      <th>1</th>\n",
              "      <td>Industriepalast Hostel Berlin</td>\n",
              "      <td>3.3</td>\n",
              "      <td>8.6</td>\n",
              "      <td>1608</td>\n",
              "      <td>14.34</td>\n",
              "      <td>https://www.hostelworld.com/hosteldetails.php/...</td>\n",
              "    </tr>\n",
              "    <tr>\n",
              "      <th>2</th>\n",
              "      <td>PLUS Berlin</td>\n",
              "      <td>3.4</td>\n",
              "      <td>9.1</td>\n",
              "      <td>16510</td>\n",
              "      <td>12.36</td>\n",
              "      <td>https://www.hostelworld.com/hosteldetails.php/...</td>\n",
              "    </tr>\n",
              "    <tr>\n",
              "      <th>3</th>\n",
              "      <td>Circus Hostel</td>\n",
              "      <td>1 fr</td>\n",
              "      <td>9.3</td>\n",
              "      <td>5350</td>\n",
              "      <td>21.63</td>\n",
              "      <td>https://www.hostelworld.com/hosteldetails.php/...</td>\n",
              "    </tr>\n",
              "    <tr>\n",
              "      <th>4</th>\n",
              "      <td>ONE80º Hostel - Alexanderplatz</td>\n",
              "      <td>0.6</td>\n",
              "      <td>8.4</td>\n",
              "      <td>4347</td>\n",
              "      <td>13.68</td>\n",
              "      <td>https://www.hostelworld.com/hosteldetails.php/...</td>\n",
              "    </tr>\n",
              "  </tbody>\n",
              "</table>\n",
              "</div>"
            ],
            "text/plain": [
              "                      hostel_name  ...                                            hw_link\n",
              "0         EastSeven Berlin Hostel  ...  https://www.hostelworld.com/hosteldetails.php/...\n",
              "1   Industriepalast Hostel Berlin  ...  https://www.hostelworld.com/hosteldetails.php/...\n",
              "2                     PLUS Berlin  ...  https://www.hostelworld.com/hosteldetails.php/...\n",
              "3                   Circus Hostel  ...  https://www.hostelworld.com/hosteldetails.php/...\n",
              "4  ONE80º Hostel - Alexanderplatz  ...  https://www.hostelworld.com/hosteldetails.php/...\n",
              "\n",
              "[5 rows x 6 columns]"
            ]
          },
          "metadata": {
            "tags": []
          },
          "execution_count": 13
        }
      ]
    },
    {
      "cell_type": "code",
      "metadata": {
        "id": "0WgTGcfSMzhd",
        "colab_type": "code",
        "colab": {
          "base_uri": "https://localhost:8080/",
          "height": 230
        },
        "outputId": "dc80bf22-c6d5-4f1d-827c-4c596331864b"
      },
      "source": [
        "# removing non numerical character on the column distance_centre_km\n",
        "\n",
        "hw_berlin.distance_centre_km = [re.sub('[^0-9.]','', x) for x in hw_berlin.distance_centre_km]\n",
        "\n",
        "hw_berlin.distance_centre_km.head(-5)"
      ],
      "execution_count": 14,
      "outputs": [
        {
          "output_type": "execute_result",
          "data": {
            "text/plain": [
              "0      1.2\n",
              "1      3.3\n",
              "2      3.4\n",
              "3        1\n",
              "4      0.6\n",
              "      ... \n",
              "78     6.4\n",
              "79     7.1\n",
              "80    12.9\n",
              "81    16.3\n",
              "82     1.9\n",
              "Name: distance_centre_km, Length: 83, dtype: object"
            ]
          },
          "metadata": {
            "tags": []
          },
          "execution_count": 14
        }
      ]
    },
    {
      "cell_type": "markdown",
      "metadata": {
        "id": "0_639w3tTeCf",
        "colab_type": "text"
      },
      "source": [
        "And now, to finalize, let's save the df as a csv file:"
      ]
    },
    {
      "cell_type": "code",
      "metadata": {
        "id": "tMerMMzWecN3",
        "colab_type": "code",
        "colab": {}
      },
      "source": [
        "hw_berlin.to_csv('hw_berlin.csv')"
      ],
      "execution_count": 0,
      "outputs": []
    }
  ]
}